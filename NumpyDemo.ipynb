{
 "cells": [
  {
   "cell_type": "code",
   "execution_count": 1,
   "id": "c8999e75-008a-4449-b025-b297ea559a52",
   "metadata": {},
   "outputs": [
    {
     "name": "stdout",
     "output_type": "stream",
     "text": [
      "[0 1 2 3 4 5 6 7 8 9]\n"
     ]
    }
   ],
   "source": [
    "import numpy as np\n",
    "arr=np.arange(10)\n",
    "print(arr)"
   ]
  },
  {
   "cell_type": "code",
   "execution_count": 2,
   "id": "34f4e0c0-c782-4671-843c-653d9c445a55",
   "metadata": {},
   "outputs": [
    {
     "name": "stdout",
     "output_type": "stream",
     "text": [
      "[4 5 6 7 8 9]\n"
     ]
    }
   ],
   "source": [
    "arr=np.arange(4,10)\n",
    "print(arr)"
   ]
  },
  {
   "cell_type": "code",
   "execution_count": 3,
   "id": "dcba8b53-d4fb-40a1-92fc-76aa8c118d51",
   "metadata": {},
   "outputs": [
    {
     "name": "stdout",
     "output_type": "stream",
     "text": [
      "[2 4 6 8]\n"
     ]
    }
   ],
   "source": [
    "arr=np.arange(2,10,2)\n",
    "print(arr)"
   ]
  },
  {
   "cell_type": "code",
   "execution_count": 4,
   "id": "cfe759e6-df28-4553-9240-fe6eb02d9e14",
   "metadata": {},
   "outputs": [
    {
     "name": "stdout",
     "output_type": "stream",
     "text": [
      "[1 2 3 4 5]\n",
      "3\n"
     ]
    }
   ],
   "source": [
    "arr_1D=np.array([1,2,3,4,5])\n",
    "print(arr_1D)\n",
    "print(arr_1D[2])"
   ]
  },
  {
   "cell_type": "code",
   "execution_count": 7,
   "id": "bc2d4e00-55bc-48bf-9967-0301db6315b9",
   "metadata": {},
   "outputs": [
    {
     "name": "stdout",
     "output_type": "stream",
     "text": [
      "[[1 2 3]\n",
      " [4 5 6]\n",
      " [7 8 9]]\n"
     ]
    }
   ],
   "source": [
    "arr_2D=np.array([[1,2,3],[4,5,6],[7,8,9]])\n",
    "print(arr_2D)\n"
   ]
  },
  {
   "cell_type": "code",
   "execution_count": 8,
   "id": "e8460bfe-74d0-4bfe-87b5-57b6522269ad",
   "metadata": {},
   "outputs": [
    {
     "name": "stdout",
     "output_type": "stream",
     "text": [
      "(3, 3)\n"
     ]
    }
   ],
   "source": [
    "arr_2D=np.array([[1,2,3],[4,5,6],[7,8,9]])\n",
    "print(arr_2D.shape)"
   ]
  },
  {
   "cell_type": "code",
   "execution_count": null,
   "id": "d27adecf-4c73-4f56-87bc-e94aeebf536e",
   "metadata": {},
   "outputs": [],
   "source": []
  }
 ],
 "metadata": {
  "kernelspec": {
   "display_name": "Python 3 (ipykernel)",
   "language": "python",
   "name": "python3"
  },
  "language_info": {
   "codemirror_mode": {
    "name": "ipython",
    "version": 3
   },
   "file_extension": ".py",
   "mimetype": "text/x-python",
   "name": "python",
   "nbconvert_exporter": "python",
   "pygments_lexer": "ipython3",
   "version": "3.13.3"
  }
 },
 "nbformat": 4,
 "nbformat_minor": 5
}
